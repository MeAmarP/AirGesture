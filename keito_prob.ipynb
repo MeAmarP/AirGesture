{
  "nbformat": 4,
  "nbformat_minor": 0,
  "metadata": {
    "colab": {
      "name": "keito_prob.ipynb",
      "provenance": [],
      "collapsed_sections": [],
      "authorship_tag": "ABX9TyMvY4Rm8eAjosFK9vrMTFvb",
      "include_colab_link": true
    },
    "kernelspec": {
      "name": "python3",
      "display_name": "Python 3"
    }
  },
  "cells": [
    {
      "cell_type": "markdown",
      "metadata": {
        "id": "view-in-github",
        "colab_type": "text"
      },
      "source": [
        "<a href=\"https://colab.research.google.com/github/MeAmarP/AirGesture/blob/master/keito_prob.ipynb\" target=\"_parent\"><img src=\"https://colab.research.google.com/assets/colab-badge.svg\" alt=\"Open In Colab\"/></a>"
      ]
    },
    {
      "cell_type": "code",
      "metadata": {
        "id": "TUmkkmDQeBOE",
        "colab_type": "code",
        "colab": {
          "base_uri": "https://localhost:8080/",
          "height": 34
        },
        "outputId": "297893ce-7fde-475c-8214-d4f9cac7d54b"
      },
      "source": [
        "import cv2\n",
        "from google.colab.patches import cv2_imshow\n",
        "print(cv2.__version__)"
      ],
      "execution_count": 6,
      "outputs": [
        {
          "output_type": "stream",
          "text": [
            "4.1.2\n"
          ],
          "name": "stdout"
        }
      ]
    },
    {
      "cell_type": "code",
      "metadata": {
        "id": "KlEYBbe2ePMo",
        "colab_type": "code",
        "colab": {
          "base_uri": "https://localhost:8080/",
          "height": 514
        },
        "outputId": "3f7133cf-9835-4e74-e29b-71cbbbc6edcc"
      },
      "source": [
        "main_img = cv2.imread('/content/test.png')\n",
        "gry_img = cv2.cvtColor(main_img,cv2.COLOR_BGR2GRAY)\n",
        "\n",
        "_, _, stats, centroids = cv2.connectedComponentsWithStats(gry_img)\n",
        "\n",
        "\n",
        "flats_cxcy = []\n",
        "for idx,cxcy in enumerate(centroids):\n",
        "  if (stats[idx,4] > 6300) and (stats[idx,4] < 11000):\n",
        "    flats_cxcy.append(cxcy)\n",
        "\n",
        "    cv2.putText(main_img,str(stats[idx,4]),(int(cxcy[0]),int(cxcy[1])),cv2.FONT_HERSHEY_SIMPLEX,0.5,(0,0,128))\n",
        "    cv2.putText(main_img,str([int(cxcy[0]),int(cxcy[1])]),(int(cxcy[0]-40),int(cxcy[1])),cv2.FONT_HERSHEY_SIMPLEX,0.3,(128,0,))\n",
        "\n",
        "\n",
        "# contours,_ = cv2.findContours(img.copy(),cv2.RETR_TREE, cv2.CHAIN_APPROX_SIMPLE)\n",
        "# for num,cnt in enumerate(contours):\n",
        "#   x,y,w,h = cv2.boundingRect(cnt)\n",
        "#   w_by_h_ratio = w/h\n",
        "#   if w_by_h_ratio >=0.7:\n",
        "    # cv2.putText(main_img,\"*\",(int(x+w/2),int(y+h/2)),cv2.FONT_HERSHEY_SIMPLEX,0.7,(0,0,128))\n",
        "cv2_imshow(main_img)\n",
        "print(len(flats_cxcy))\n"
      ],
      "execution_count": 49,
      "outputs": [
        {
          "output_type": "display_data",
          "data": {
            "image/png": "[encoded data removed]",
            "text/plain": [
              "<PIL.Image.Image image mode=RGB size=640x480 at 0x7F24DB9B7C18>"
            ]
          },
          "metadata": {
            "tags": []
          }
        },
        {
          "output_type": "stream",
          "text": [
            "30\n"
          ],
          "name": "stdout"
        }
      ]
    },
    {
      "cell_type": "code",
      "metadata": {
        "id": "Pe_6P72Zf5Wx",
        "colab_type": "code",
        "colab": {
          "base_uri": "https://localhost:8080/",
          "height": 625
        },
        "outputId": "b183ac26-3b0d-4788-e35e-d789410736ae"
      },
      "source": [
        "#Create table map with flat(0,0) mapped to imgflat(cx,cy)\n",
        "#to find the flat,we need to find bbox: DONEs\n",
        "import numpy as np\n",
        "\n",
        "np_flats_cxcy = np.array(flats_cxcy)\n",
        "print('before',np_flats_cxcy.shape)\n",
        "\n",
        "print('after',np_flats_cxcy.reshape(5,6,2))"
      ],
      "execution_count": 55,
      "outputs": [
        {
          "output_type": "stream",
          "text": [
            "before (30, 2)\n",
            "after [[[ 70.63077897  66.790057  ]\n",
            "  [163.99556681  67.12634579]\n",
            "  [260.86698622  67.07579389]\n",
            "  [360.58240469  66.77331378]\n",
            "  [464.99617695  66.98443474]\n",
            "  [572.80529509  67.04440154]]\n",
            "\n",
            " [[ 70.01097804 143.2566296 ]\n",
            "  [163.75517342 142.94972311]\n",
            "  [260.39127499 143.25810373]\n",
            "  [360.67143629 143.18142549]\n",
            "  [464.96680915 142.96592909]\n",
            "  [572.58806677 143.41292975]]\n",
            "\n",
            " [[ 69.71905882 231.00023529]\n",
            "  [164.00889968 231.360957  ]\n",
            "  [260.16837416 231.0532294 ]\n",
            "  [360.63846489 231.19123419]\n",
            "  [464.97408964 231.41326531]\n",
            "  [572.55765285 231.28210915]]\n",
            "\n",
            " [[ 70.0688905  333.94064022]\n",
            "  [164.00797679 333.79270693]\n",
            "  [260.48545237 334.15284974]\n",
            "  [360.50336474 333.96914055]\n",
            "  [464.5254114  333.58159833]\n",
            "  [572.68160118 333.90249725]]\n",
            "\n",
            " [[ 69.88512564 424.68690495]\n",
            "  [164.14296863 424.8342438 ]\n",
            "  [260.34734258 424.80805893]\n",
            "  [360.13775658 424.77825961]\n",
            "  [464.07497644 424.69820972]\n",
            "  [572.67264818 424.82354541]]]\n"
          ],
          "name": "stdout"
        }
      ]
    },
    {
      "cell_type": "code",
      "metadata": {
        "id": "tBzVZqTcLD3R",
        "colab_type": "code",
        "colab": {}
      },
      "source": [
        ""
      ],
      "execution_count": 0,
      "outputs": []
    }
  ]
}